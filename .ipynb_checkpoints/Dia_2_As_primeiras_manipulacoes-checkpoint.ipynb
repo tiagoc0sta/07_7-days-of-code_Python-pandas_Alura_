{
 "cells": [
  {
   "cell_type": "markdown",
   "metadata": {
    "colab_type": "text",
    "id": "view-in-github"
   },
   "source": [
    "<a href=\"https://colab.research.google.com/github/FranciscoFoz/7_Days_of_Code_Alura-Python-Pandas/blob/main/Dia_2-As_primeiras_manipulacoes/Dia_2_As_primeiras_manipulacoes.ipynb\" target=\"_parent\"><img src=\"https://colab.research.google.com/assets/colab-badge.svg\" alt=\"Open In Colab\"/></a>"
   ]
  },
  {
   "cell_type": "markdown",
   "metadata": {
    "id": "lQ4DrRF-n70a"
   },
   "source": [
    "#Dia 1 - Importação de dados\n",
    "\n",
    "---\n",
    "\n",
    "\n"
   ]
  },
  {
   "cell_type": "code",
   "execution_count": 1,
   "metadata": {
    "id": "lY9KHwipn6Ez"
   },
   "outputs": [],
   "source": [
    "import pandas as pd"
   ]
  },
  {
   "cell_type": "markdown",
   "metadata": {
    "id": "zRjPJZmepiY9"
   },
   "source": [
    "## Coletando dados"
   ]
  },
  {
   "cell_type": "code",
   "execution_count": null,
   "metadata": {
    "id": "TVdhDo9roNGw"
   },
   "outputs": [],
   "source": [
    "dados_2010_1 = pd.read_csv('https://github.com/FranciscoFoz/7_Days_of_Code_Alura-Python-Pandas/blob/main/Dia_1-Importando_dados/Datasets/dados_emprestimos/emprestimos-20101.csv?raw=true')\n",
    "dados_2010_2 = pd.read_csv('https://github.com/FranciscoFoz/7_Days_of_Code_Alura-Python-Pandas/blob/main/Dia_1-Importando_dados/Datasets/dados_emprestimos/emprestimos-20102.csv?raw=true')\n",
    "dados_2011_1 = pd.read_csv('https://github.com/FranciscoFoz/7_Days_of_Code_Alura-Python-Pandas/blob/main/Dia_1-Importando_dados/Datasets/dados_emprestimos/emprestimos-20111.csv?raw=true')\n",
    "dados_2011_2 = pd.read_csv('https://github.com/FranciscoFoz/7_Days_of_Code_Alura-Python-Pandas/blob/main/Dia_1-Importando_dados/Datasets/dados_emprestimos/emprestimos-20112.csv?raw=true')\n",
    "dados_2012_1 = pd.read_csv('https://github.com/FranciscoFoz/7_Days_of_Code_Alura-Python-Pandas/blob/main/Dia_1-Importando_dados/Datasets/dados_emprestimos/emprestimos-20121.csv?raw=true')\n",
    "dados_2012_2 = pd.read_csv('https://github.com/FranciscoFoz/7_Days_of_Code_Alura-Python-Pandas/blob/main/Dia_1-Importando_dados/Datasets/dados_emprestimos/emprestimos-20122.csv?raw=true')\n",
    "dados_2013_1 = pd.read_csv('https://github.com/FranciscoFoz/7_Days_of_Code_Alura-Python-Pandas/blob/main/Dia_1-Importando_dados/Datasets/dados_emprestimos/emprestimos-20131.csv?raw=true')\n",
    "dados_2013_2 = pd.read_csv('https://github.com/FranciscoFoz/7_Days_of_Code_Alura-Python-Pandas/blob/main/Dia_1-Importando_dados/Datasets/dados_emprestimos/emprestimos-20132.csv?raw=true')\n",
    "dados_2014_1 = pd.read_csv('https://github.com/FranciscoFoz/7_Days_of_Code_Alura-Python-Pandas/blob/main/Dia_1-Importando_dados/Datasets/dados_emprestimos/emprestimos-20141.csv?raw=true')\n",
    "dados_2014_2 = pd.read_csv('https://github.com/FranciscoFoz/7_Days_of_Code_Alura-Python-Pandas/blob/main/Dia_1-Importando_dados/Datasets/dados_emprestimos/emprestimos-20142.csv?raw=true')\n",
    "dados_2015_1 = pd.read_csv('https://github.com/FranciscoFoz/7_Days_of_Code_Alura-Python-Pandas/blob/main/Dia_1-Importando_dados/Datasets/dados_emprestimos/emprestimos-20151.csv?raw=true')\n",
    "dados_2015_2 = pd.read_csv('https://github.com/FranciscoFoz/7_Days_of_Code_Alura-Python-Pandas/blob/main/Dia_1-Importando_dados/Datasets/dados_emprestimos/emprestimos-20152.csv?raw=true')\n",
    "dados_2016_1 = pd.read_csv('https://github.com/FranciscoFoz/7_Days_of_Code_Alura-Python-Pandas/blob/main/Dia_1-Importando_dados/Datasets/dados_emprestimos/emprestimos-20161.csv?raw=true')\n",
    "dados_2016_2 = pd.read_csv('https://github.com/FranciscoFoz/7_Days_of_Code_Alura-Python-Pandas/blob/main/Dia_1-Importando_dados/Datasets/dados_emprestimos/emprestimos-20162.csv?raw=true')\n",
    "dados_2017_1 = pd.read_csv('https://github.com/FranciscoFoz/7_Days_of_Code_Alura-Python-Pandas/blob/main/Dia_1-Importando_dados/Datasets/dados_emprestimos/emprestimos-20171.csv?raw=true')\n",
    "dados_2017_2 = pd.read_csv('https://github.com/FranciscoFoz/7_Days_of_Code_Alura-Python-Pandas/blob/main/Dia_1-Importando_dados/Datasets/dados_emprestimos/emprestimos-20172.csv?raw=true')\n",
    "dados_2018_1 = pd.read_csv('https://github.com/FranciscoFoz/7_Days_of_Code_Alura-Python-Pandas/blob/main/Dia_1-Importando_dados/Datasets/dados_emprestimos/emprestimos-20181.csv?raw=true')\n",
    "dados_2018_2 = pd.read_csv('https://github.com/FranciscoFoz/7_Days_of_Code_Alura-Python-Pandas/blob/main/Dia_1-Importando_dados/Datasets/dados_emprestimos/emprestimos-20182.csv?raw=true')\n",
    "dados_2019_1 = pd.read_csv('https://github.com/FranciscoFoz/7_Days_of_Code_Alura-Python-Pandas/blob/main/Dia_1-Importando_dados/Datasets/dados_emprestimos/emprestimos-20191.csv?raw=true')\n",
    "dados_2019_2 = pd.read_csv('https://github.com/FranciscoFoz/7_Days_of_Code_Alura-Python-Pandas/blob/main/Dia_1-Importando_dados/Datasets/dados_emprestimos/emprestimos-20192.csv?raw=true')\n",
    "dados_2020_1 = pd.read_csv('https://github.com/FranciscoFoz/7_Days_of_Code_Alura-Python-Pandas/blob/main/Dia_1-Importando_dados/Datasets/dados_emprestimos/emprestimos-20201.csv?raw=true')\n"
   ]
  },
  {
   "cell_type": "markdown",
   "metadata": {
    "id": "vLSB-TcZpluc"
   },
   "source": [
    "## Concatenando os DataFrames"
   ]
  },
  {
   "cell_type": "code",
   "execution_count": null,
   "metadata": {
    "colab": {
     "base_uri": "https://localhost:8080/",
     "height": 0
    },
    "id": "QvlObOCeoNuA",
    "outputId": "934ff7f2-c198-4ed4-b5d2-b26c2e5a8712"
   },
   "outputs": [],
   "source": [
    "emprestimos_biblioteca = pd.concat([dados_2010_1,dados_2010_2,dados_2011_1,dados_2011_2,dados_2012_1,dados_2012_2,dados_2013_1,dados_2013_2,dados_2014_1,\n",
    "                                    dados_2014_2,dados_2015_1,dados_2015_2,dados_2016_1,dados_2016_2,dados_2017_1,dados_2017_2,dados_2018_1,dados_2018_2,\n",
    "                                    dados_2019_1,dados_2019_2,dados_2020_1],ignore_index=True)\n",
    "emprestimos_biblioteca"
   ]
  },
  {
   "cell_type": "markdown",
   "metadata": {
    "id": "XOoMMaPCppUk"
   },
   "source": [
    "## Verificando duplicatas"
   ]
  },
  {
   "cell_type": "code",
   "execution_count": null,
   "metadata": {
    "colab": {
     "base_uri": "https://localhost:8080/"
    },
    "id": "2NA7SNJIoNrh",
    "outputId": "8e76b370-be49-4c65-b125-619e43589bb0"
   },
   "outputs": [],
   "source": [
    "emprestimos_biblioteca.value_counts()"
   ]
  },
  {
   "cell_type": "markdown",
   "metadata": {
    "id": "xb0W7KuZpr6e"
   },
   "source": [
    "## Excluindo duplicatas"
   ]
  },
  {
   "cell_type": "code",
   "execution_count": null,
   "metadata": {
    "id": "Hf3_KI04oNkO"
   },
   "outputs": [],
   "source": [
    "emprestimos_biblioteca = emprestimos_biblioteca.drop_duplicates()"
   ]
  },
  {
   "cell_type": "code",
   "execution_count": null,
   "metadata": {
    "colab": {
     "base_uri": "https://localhost:8080/"
    },
    "id": "wjEq_l1oowM3",
    "outputId": "d3d0fa41-c79a-4c5c-f84d-0c9df01b30b0"
   },
   "outputs": [],
   "source": [
    "emprestimos_biblioteca.value_counts()"
   ]
  },
  {
   "cell_type": "code",
   "execution_count": null,
   "metadata": {
    "colab": {
     "base_uri": "https://localhost:8080/",
     "height": 0
    },
    "id": "jMfxrLzDoVUP",
    "outputId": "f0ea386b-e1fc-4647-8568-3deb9df32860"
   },
   "outputs": [],
   "source": [
    "emprestimos_biblioteca.head()"
   ]
  },
  {
   "cell_type": "markdown",
   "metadata": {
    "id": "swsnv0ZXpwvy"
   },
   "source": [
    "## Importando mais dados"
   ]
  },
  {
   "cell_type": "code",
   "execution_count": null,
   "metadata": {
    "colab": {
     "base_uri": "https://localhost:8080/",
     "height": 0
    },
    "id": "JxqipYBhoWMf",
    "outputId": "d0e19d0a-3266-465d-cbab-e2ff4e4aa522"
   },
   "outputs": [],
   "source": [
    "dados_exemplares = pd.read_parquet('https://github.com/FranciscoFoz/7_Days_of_Code_Alura-Python-Pandas/raw/main/Dia_1-Importando_dados/Datasets/dados_exemplares.parquet')\n",
    "dados_exemplares"
   ]
  },
  {
   "cell_type": "markdown",
   "metadata": {
    "id": "DhLGXWsWpys8"
   },
   "source": [
    "## Unindo os DataFrames"
   ]
  },
  {
   "cell_type": "code",
   "execution_count": null,
   "metadata": {
    "colab": {
     "base_uri": "https://localhost:8080/",
     "height": 0
    },
    "id": "mdWWXcKhXOen",
    "outputId": "d52b120b-d730-4f6d-f2d9-5705a3f90fd1"
   },
   "outputs": [],
   "source": [
    "emprestimos_completo = emprestimos_biblioteca.merge(dados_exemplares)\n",
    "emprestimos_completo"
   ]
  },
  {
   "cell_type": "markdown",
   "metadata": {
    "id": "CKbZ3-0Kowme"
   },
   "source": [
    "#Dia 2 - As primeiras manipulações"
   ]
  },
  {
   "cell_type": "code",
   "execution_count": null,
   "metadata": {
    "id": "6AZN3rV1ohFY"
   },
   "outputs": [],
   "source": [
    "import pandas as pd"
   ]
  },
  {
   "cell_type": "code",
   "execution_count": null,
   "metadata": {
    "colab": {
     "base_uri": "https://localhost:8080/",
     "height": 0
    },
    "id": "Het6kwUNqZr4",
    "outputId": "ad329ac3-03ce-4fc5-c7e8-53da3f8370ab"
   },
   "outputs": [],
   "source": [
    "emprestimos_completo.head()"
   ]
  },
  {
   "cell_type": "markdown",
   "metadata": {
    "id": "97KT_3pTtb1y"
   },
   "source": [
    "## Atribuir a coluna com nomenclatura da CDU"
   ]
  },
  {
   "cell_type": "code",
   "execution_count": null,
   "metadata": {
    "id": "tijX3YN9rGwC"
   },
   "outputs": [],
   "source": [
    "CDU_lista = []\n",
    "for CDU in emprestimos_completo['localizacao']:\n",
    "  if(CDU < 100):\n",
    "    CDU_lista.append('Generalidades')\n",
    "  elif(CDU < 200):\n",
    "    CDU_lista.append('Filosofia e psicologia')\n",
    "  elif(CDU < 300):\n",
    "    CDU_lista.append('Religião')\n",
    "  elif(CDU < 400):\n",
    "    CDU_lista.append('Ciências sociais')\n",
    "  elif(CDU < 500):\n",
    "    CDU_lista.append('Classe vaga')\n",
    "  elif(CDU < 600):\n",
    "    CDU_lista.append('Matemática e ciências naturais')\n",
    "  elif(CDU < 700):\n",
    "    CDU_lista.append('Ciências aplicadas')\n",
    "  elif(CDU < 800):\n",
    "    CDU_lista.append('Belas artes')\n",
    "  elif(CDU < 900):\n",
    "    CDU_lista.append('Linguagem')\n",
    "  else:\n",
    "    CDU_lista.append('Geografia. Biografia. História.')\n",
    "\n",
    "emprestimos_completo['CDU_geral'] = CDU_lista"
   ]
  },
  {
   "cell_type": "code",
   "execution_count": null,
   "metadata": {
    "colab": {
     "base_uri": "https://localhost:8080/",
     "height": 0
    },
    "id": "Gq5c0v2irGrP",
    "outputId": "73cb89df-2596-4e18-c380-19c4fdbb41a3"
   },
   "outputs": [],
   "source": [
    "emprestimos_completo.head()"
   ]
  },
  {
   "cell_type": "markdown",
   "metadata": {
    "id": "vCB_7X4hzQNx"
   },
   "source": [
    "## Excluir coluna \"registro_sistema\""
   ]
  },
  {
   "cell_type": "code",
   "execution_count": null,
   "metadata": {
    "id": "285nrWeMy_1L"
   },
   "outputs": [],
   "source": [
    "emprestimos_completo.drop(columns=['registro_sistema'],inplace=True)"
   ]
  },
  {
   "cell_type": "markdown",
   "metadata": {
    "id": "FXovmqetP6Wm"
   },
   "source": [
    "## Modificar tipo de dado da matrícula"
   ]
  },
  {
   "cell_type": "code",
   "execution_count": null,
   "metadata": {
    "id": "22X_D7jbrGym"
   },
   "outputs": [],
   "source": [
    "emprestimos_completo['matricula_ou_siape'] = emprestimos_completo['matricula_ou_siape'].astype('string')"
   ]
  }
 ],
 "metadata": {
  "colab": {
   "authorship_tag": "ABX9TyOV1mG0z13oeEly131jpwVM",
   "include_colab_link": true,
   "name": "Dia_2-As_primeiras_manipulacoes.ipynb",
   "provenance": []
  },
  "kernelspec": {
   "display_name": "Python 3 (ipykernel)",
   "language": "python",
   "name": "python3"
  },
  "language_info": {
   "codemirror_mode": {
    "name": "ipython",
    "version": 3
   },
   "file_extension": ".py",
   "mimetype": "text/x-python",
   "name": "python",
   "nbconvert_exporter": "python",
   "pygments_lexer": "ipython3",
   "version": "3.10.9"
  }
 },
 "nbformat": 4,
 "nbformat_minor": 1
}
